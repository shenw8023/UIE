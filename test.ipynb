{
 "cells": [
  {
   "cell_type": "code",
   "execution_count": 8,
   "metadata": {},
   "outputs": [],
   "source": [
    "from transformers import BertTokenizerFast"
   ]
  },
  {
   "cell_type": "code",
   "execution_count": 10,
   "metadata": {},
   "outputs": [],
   "source": [
    "tok = BertTokenizerFast.from_pretrained('bert-base-chinese')"
   ]
  },
  {
   "cell_type": "code",
   "execution_count": 11,
   "metadata": {},
   "outputs": [],
   "source": [
    "sent = [\n",
    "    ['中华人民共和国', '数字经济'],\n",
    "    ['中华人民共和国国', '数字经济济'],\n",
    "]"
   ]
  },
  {
   "cell_type": "code",
   "execution_count": 15,
   "metadata": {},
   "outputs": [],
   "source": [
    "res = tok(sent, padding=True, return_tensors='pt', return_offsets_mapping=True)"
   ]
  },
  {
   "cell_type": "code",
   "execution_count": 17,
   "metadata": {},
   "outputs": [
    {
     "data": {
      "text/plain": [
       "tensor([[[0, 0],\n",
       "         [0, 1],\n",
       "         [1, 2],\n",
       "         [2, 3],\n",
       "         [3, 4],\n",
       "         [4, 5],\n",
       "         [5, 6],\n",
       "         [6, 7],\n",
       "         [0, 0],\n",
       "         [0, 1],\n",
       "         [1, 2],\n",
       "         [2, 3],\n",
       "         [3, 4],\n",
       "         [0, 0],\n",
       "         [0, 0],\n",
       "         [0, 0]],\n",
       "\n",
       "        [[0, 0],\n",
       "         [0, 1],\n",
       "         [1, 2],\n",
       "         [2, 3],\n",
       "         [3, 4],\n",
       "         [4, 5],\n",
       "         [5, 6],\n",
       "         [6, 7],\n",
       "         [7, 8],\n",
       "         [0, 0],\n",
       "         [0, 1],\n",
       "         [1, 2],\n",
       "         [2, 3],\n",
       "         [3, 4],\n",
       "         [4, 5],\n",
       "         [0, 0]]])"
      ]
     },
     "execution_count": 17,
     "metadata": {},
     "output_type": "execute_result"
    }
   ],
   "source": [
    "res['offset_mapping']"
   ]
  },
  {
   "cell_type": "code",
   "execution_count": 16,
   "metadata": {},
   "outputs": [
    {
     "data": {
      "text/plain": [
       "[[[tensor(0), tensor(0)],\n",
       "  [tensor(0), tensor(1)],\n",
       "  [tensor(1), tensor(2)],\n",
       "  [tensor(2), tensor(3)],\n",
       "  [tensor(3), tensor(4)],\n",
       "  [tensor(4), tensor(5)],\n",
       "  [tensor(5), tensor(6)],\n",
       "  [tensor(6), tensor(7)],\n",
       "  [tensor(0), tensor(0)],\n",
       "  [tensor(0), tensor(1)],\n",
       "  [tensor(1), tensor(2)],\n",
       "  [tensor(2), tensor(3)],\n",
       "  [tensor(3), tensor(4)],\n",
       "  [tensor(0), tensor(0)],\n",
       "  [tensor(0), tensor(0)],\n",
       "  [tensor(0), tensor(0)]],\n",
       " [[tensor(0), tensor(0)],\n",
       "  [tensor(0), tensor(1)],\n",
       "  [tensor(1), tensor(2)],\n",
       "  [tensor(2), tensor(3)],\n",
       "  [tensor(3), tensor(4)],\n",
       "  [tensor(4), tensor(5)],\n",
       "  [tensor(5), tensor(6)],\n",
       "  [tensor(6), tensor(7)],\n",
       "  [tensor(7), tensor(8)],\n",
       "  [tensor(0), tensor(0)],\n",
       "  [tensor(0), tensor(1)],\n",
       "  [tensor(1), tensor(2)],\n",
       "  [tensor(2), tensor(3)],\n",
       "  [tensor(3), tensor(4)],\n",
       "  [tensor(4), tensor(5)],\n",
       "  [tensor(0), tensor(0)]]]"
      ]
     },
     "execution_count": 16,
     "metadata": {},
     "output_type": "execute_result"
    }
   ],
   "source": [
    "[[list(x) for x in offset] for offset in res[\"offset_mapping\"]]"
   ]
  },
  {
   "cell_type": "code",
   "execution_count": null,
   "metadata": {},
   "outputs": [],
   "source": [
    "import torch"
   ]
  },
  {
   "cell_type": "code",
   "execution_count": 29,
   "metadata": {},
   "outputs": [
    {
     "data": {
      "text/plain": [
       "tensor([[-1.0187, -0.7488, -1.2407, -0.3034,  0.2790],\n",
       "        [ 2.4478,  0.5138, -0.0330,  0.2036,  0.6374]])"
      ]
     },
     "execution_count": 29,
     "metadata": {},
     "output_type": "execute_result"
    }
   ],
   "source": [
    "a = torch.randn(2,5)\n",
    "a"
   ]
  },
  {
   "cell_type": "code",
   "execution_count": 31,
   "metadata": {},
   "outputs": [
    {
     "data": {
      "text/plain": [
       "tensor([[False, False, False, False,  True],\n",
       "        [ True,  True, False,  True,  True]])"
      ]
     },
     "execution_count": 31,
     "metadata": {},
     "output_type": "execute_result"
    }
   ],
   "source": [
    "a>0"
   ]
  },
  {
   "cell_type": "code",
   "execution_count": null,
   "metadata": {},
   "outputs": [],
   "source": []
  }
 ],
 "metadata": {
  "kernelspec": {
   "display_name": "Python 3.8.10 64-bit",
   "language": "python",
   "name": "python3"
  },
  "language_info": {
   "codemirror_mode": {
    "name": "ipython",
    "version": 3
   },
   "file_extension": ".py",
   "mimetype": "text/x-python",
   "name": "python",
   "nbconvert_exporter": "python",
   "pygments_lexer": "ipython3",
   "version": "3.8.10"
  },
  "orig_nbformat": 4,
  "vscode": {
   "interpreter": {
    "hash": "916dbcbb3f70747c44a77c7bcd40155683ae19c65e1c03b4aa3499c5328201f1"
   }
  }
 },
 "nbformat": 4,
 "nbformat_minor": 2
}
